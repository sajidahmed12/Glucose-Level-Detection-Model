{
 "cells": [
  {
   "cell_type": "markdown",
   "metadata": {},
   "source": [
    "## Import libraries\n"
   ]
  },
  {
   "cell_type": "code",
   "execution_count": 253,
   "metadata": {},
   "outputs": [],
   "source": [
    "### Matlab file to CSV Conversion\n",
    "import pandas as pd\n",
    "import numpy as np\n",
    "import matplotlib.pyplot as plt\n",
    "import seaborn as sns\n",
    "from scipy.io import loadmat\n",
    "from sklearn.svm import SVR\n",
    "from scipy import signal, sparse \n",
    "from scipy.sparse.linalg import spsolve\n",
    "from scipy.signal import argrelmax\n",
    "from scipy.ndimage.filters import gaussian_filter1d\n",
    "from sklearn.ensemble import RandomForestRegressor \n",
    "from sklearn.metrics import mean_squared_error, r2_score\n",
    "from sklearn.preprocessing import StandardScaler\n",
    "from sklearn.model_selection import train_test_split\n",
    "from scipy.ndimage import gaussian_filter\n",
    "from scipy.signal import find_peaks, peak_prominences\n",
    "from scipy.signal import chirp, find_peaks, peak_widths"
   ]
  },
  {
   "cell_type": "markdown",
   "metadata": {},
   "source": [
    "### Matlab file to CSV Conversion\n"
   ]
  },
  {
   "cell_type": "code",
   "execution_count": 254,
   "metadata": {},
   "outputs": [],
   "source": [
    "# #Matlab file to CSV Conversion\n",
    "\n",
    "# data1 = loadmat(\"data/file/Y_new.mat\")\n",
    "# for i in data1:\n",
    "#     if '__' not in i and 'readme' not in i:\n",
    "#         np.savetxt((\"data/file/Y_new.csv\"),data1[i],delimiter=',')\n",
    "\n",
    "# data2 = loadmat(\"data/file/Y_old.mat\")        \n",
    "# for j in data2:\n",
    "#     if '__' not in j and 'readme' not in j:\n",
    "#         np.savetxt((\"data/file/Y_old.csv\"),data2[j],delimiter=',')   \n"
   ]
  },
  {
   "cell_type": "markdown",
   "metadata": {},
   "source": [
    "### Load CSV Data\n"
   ]
  },
  {
   "cell_type": "code",
   "execution_count": 255,
   "metadata": {},
   "outputs": [],
   "source": [
    "### Load CSV Data\n",
    "# rawX = pd.read_csv('data/previous_data/selective_data/x_merged.csv')\n",
    "# rawY = pd.read_csv('data/previous_data/selective_data/y_merged.csv')\n",
    "\n",
    "rawX = pd.read_csv('data/previous_data/selective_data/X_merged_selective.csv')\n",
    "rawY = pd.read_csv('data/previous_data/selective_data/Y_merged_selective.csv')\n"
   ]
  },
  {
   "cell_type": "markdown",
   "metadata": {},
   "source": [
    "### Preprocessing Training data\n"
   ]
  },
  {
   "cell_type": "code",
   "execution_count": 256,
   "metadata": {},
   "outputs": [],
   "source": [
    "### Preprocessing Training data\n",
    "#Apply 1st Gaussian   \n",
    "gauss= gaussian_filter(rawX,sigma=0.5,cval=0.5, truncate=4.0)\n",
    "\n",
    "def baseline_als(y, lam, p, niter=10):\n",
    "    L = len(y)\n",
    "    D = sparse.csc_matrix(np.diff(np.eye(L), 2))\n",
    "    w = np.ones(L)\n",
    "    for i in range(niter):\n",
    "        W = sparse.spdiags(w, 0, L, L)\n",
    "        Z = W + lam * D.dot(D.transpose())\n",
    "        z = spsolve(Z, w*y)\n",
    "        w = p * (y > z) + (1-p) * (y < z)\n",
    "    return z\n",
    "\n",
    "\n",
    "#Baseline Correction ALS\n",
    "\n",
    "\n",
    "asx =[]\n",
    "Corrected_base =[]\n",
    "for i in range(len(gauss)):\n",
    "    asx.append(gauss[i].flatten())\n",
    "    base=asx[i]-baseline_als(asx[i], 1000, 0.05)\n",
    "    Corrected_base.append(base)"
   ]
  },
  {
   "cell_type": "code",
   "execution_count": 257,
   "metadata": {},
   "outputs": [],
   "source": [
    "#Apply 2nd Gaussian      \n",
    "gauss_2= gaussian_filter(Corrected_base,sigma=0.5,cval=0.5, truncate=4.0)\n",
    "\n",
    "\n",
    "#Derivatives\n",
    "signal_1stdev =[]\n",
    "signal_2nddev =[]\n",
    "smoothed_signal =[]\n",
    "\n",
    "c=0\n",
    "for i in range(len(gauss_2)):\n",
    "    fstdev = (np.gradient(gauss_2[i]))\n",
    "    signal_1stdev.append(fstdev)\n",
    "    second_dev = np.gradient(fstdev)\n",
    "    signal_2nddev.append(second_dev)\n",
    "    sm_signal = gaussian_filter1d(second_dev, 2.4)\n",
    "    smoothed_signal.append(sm_signal)\n",
    "    c=c+1\n",
    "    \n",
    "    \n",
    "    \n",
    "#Peak Detection   \n",
    "xpeak, _ = find_peaks(smoothed_signal[0], distance=1)\n",
    "yheight = peak_prominences(smoothed_signal[0], xpeak)[0]\n",
    "\n",
    "xpeak =[]\n",
    "yheight =[]\n",
    "\n",
    "\n",
    "for i in range(len(smoothed_signal)):\n",
    "    peak, _ = find_peaks(smoothed_signal[i], distance=1)\n",
    "    xpeak.append(peak)\n",
    "    height=peak_prominences(smoothed_signal[i], peak)[0]\n",
    "    yheight.append(height)"
   ]
  },
  {
   "cell_type": "code",
   "execution_count": 262,
   "metadata": {},
   "outputs": [],
   "source": [
    "# rawX\n",
    "# gauss\n",
    "# Corrected_base\n",
    "# gauss_2\n",
    "# signal_1stdev\n",
    "# signal_2nddev\n",
    "# smoothed_signal\n",
    "train =signal_1stdev"
   ]
  },
  {
   "cell_type": "markdown",
   "metadata": {},
   "source": [
    "### Split Training data\n"
   ]
  },
  {
   "cell_type": "code",
   "execution_count": 263,
   "metadata": {},
   "outputs": [],
   "source": [
    "X_train, X_test, y_train, y_test = train_test_split(train,rawY,test_size=0.25,shuffle=False)"
   ]
  },
  {
   "cell_type": "markdown",
   "metadata": {},
   "source": [
    "###  Random Forrest Regression\n"
   ]
  },
  {
   "cell_type": "code",
   "execution_count": 264,
   "metadata": {
    "scrolled": true
   },
   "outputs": [
    {
     "name": "stdout",
     "output_type": "stream",
     "text": [
      "RandomForestRegressor(bootstrap=True, criterion='mse', max_depth=None,\n",
      "           max_features='auto', max_leaf_nodes=None,\n",
      "           min_impurity_decrease=0.0, min_impurity_split=None,\n",
      "           min_samples_leaf=6, min_samples_split=2,\n",
      "           min_weight_fraction_leaf=0.0, n_estimators=70, n_jobs=None,\n",
      "           oob_score=False, random_state=8, verbose=0, warm_start=False) \n",
      "\n",
      "\n"
     ]
    }
   ],
   "source": [
    "###  Random Forrest Regression\n",
    "regressor = RandomForestRegressor(n_estimators = 70, random_state = 8, max_features='auto', min_samples_leaf=6)                                \n",
    "print(regressor.fit(X_train, y_train.values.ravel()),'\\n\\n')"
   ]
  },
  {
   "cell_type": "code",
   "execution_count": 265,
   "metadata": {},
   "outputs": [
    {
     "name": "stdout",
     "output_type": "stream",
     "text": [
      "Random Forrest Regression Test Results\n",
      "rmse_error 22.11170125235609\n",
      "Accuracy Score: -0.4129736069130763\n"
     ]
    }
   ],
   "source": [
    "truey= y_test.values\n",
    "\n",
    "prediction= regressor.predict(X_test)\n",
    "rmse = np.sqrt(mean_squared_error(truey, prediction))\n",
    "acc = r2_score(truey, prediction)               \n",
    "               \n",
    "print('Random Forrest Regression Test Results')\n",
    "print('rmse_error',rmse)\n",
    "print('Accuracy Score:' ,acc)"
   ]
  },
  {
   "cell_type": "code",
   "execution_count": 172,
   "metadata": {},
   "outputs": [],
   "source": [
    "d1 = pd.DataFrame({'Real Values':truey.reshape(-1), 'Predicted Values':prediction})\n",
    "#d1.to_csv(\"Random_Forrest_results.csv\")"
   ]
  },
  {
   "cell_type": "markdown",
   "metadata": {},
   "source": [
    "###  Support Vector  Regression\n"
   ]
  },
  {
   "cell_type": "code",
   "execution_count": 248,
   "metadata": {},
   "outputs": [],
   "source": [
    "X_train, X_test, y_train, y_test = train_test_split(train,rawY,test_size=0.25,shuffle=False)\n",
    "X = np.asarray(X_train)\n",
    "y = np.asarray(y_train)\n",
    "###  Support Vector  Regression\n",
    "\n",
    "sc_X = StandardScaler()\n",
    "sc_y = StandardScaler()\n",
    "\n",
    "\n",
    "trainX = sc_X.fit_transform(X)\n",
    "trainy = np.squeeze(sc_y.fit_transform(y))"
   ]
  },
  {
   "cell_type": "code",
   "execution_count": 249,
   "metadata": {},
   "outputs": [],
   "source": [
    "testX = sc_X.fit_transform(np.asarray(X_test))\n",
    "testy = np.squeeze(sc_y.fit_transform(np.asarray(y_test).reshape(-1, 1)))"
   ]
  },
  {
   "cell_type": "code",
   "execution_count": 252,
   "metadata": {},
   "outputs": [
    {
     "name": "stdout",
     "output_type": "stream",
     "text": [
      "SVR(C=1.0, cache_size=200, coef0=0.0, degree=3, epsilon=1.3, gamma='auto',\n",
      "  kernel='rbf', max_iter=-1, shrinking=True, tol=0.001, verbose=False) \n",
      "\n",
      "\n",
      "Support Vector Machine Regression Results\n",
      "SVR rmse_error 21.321562707273547\n",
      "SVR Accuracy Score: -0.313795583366685\n"
     ]
    }
   ],
   "source": [
    "regr = SVR(C=1.0, cache_size=200, coef0=0.0, degree=3, epsilon=0.5, gamma='auto',kernel='rbf', max_iter=-1, shrinking=True, tol=0.001)\n",
    "print(regr.fit(trainX, trainy),'\\n\\n')\n",
    "\n",
    "\n",
    "y_pred = regr.predict(testX)\n",
    "y_pred = sc_y.inverse_transform(y_pred)\n",
    "\n",
    "\n",
    "data_test = sc_y.inverse_transform(testy.reshape(-1))\n",
    "svr_rmse = np.sqrt(mean_squared_error(data_test, y_pred))\n",
    "svr_acc = r2_score(data_test, y_pred)               \n",
    "               \n",
    "print('Support Vector Machine Regression Results')\n",
    "print('SVR rmse_error',svr_rmse)\n",
    "print('SVR Accuracy Score:' ,svr_acc)"
   ]
  },
  {
   "cell_type": "code",
   "execution_count": 132,
   "metadata": {},
   "outputs": [],
   "source": [
    "df = pd.DataFrame({'Real Values':sc_y.inverse_transform(data_test.reshape(-1)), 'Predicted Values':y_pred})\n",
    "#df.to_csv(\"SVR_results_new.csv\")"
   ]
  },
  {
   "cell_type": "code",
   "execution_count": null,
   "metadata": {},
   "outputs": [],
   "source": [
    "data_test"
   ]
  },
  {
   "cell_type": "code",
   "execution_count": null,
   "metadata": {},
   "outputs": [],
   "source": [
    "y_pred"
   ]
  },
  {
   "cell_type": "markdown",
   "metadata": {},
   "source": [
    "### Graph Plot\n"
   ]
  },
  {
   "cell_type": "code",
   "execution_count": 133,
   "metadata": {},
   "outputs": [
    {
     "data": {
      "application/javascript": "/* Put everything inside the global mpl namespace */\nwindow.mpl = {};\n\n\nmpl.get_websocket_type = function() {\n    if (typeof(WebSocket) !== 'undefined') {\n        return WebSocket;\n    } else if (typeof(MozWebSocket) !== 'undefined') {\n        return MozWebSocket;\n    } else {\n        alert('Your browser does not have WebSocket support.' +\n              'Please try Chrome, Safari or Firefox ≥ 6. ' +\n              'Firefox 4 and 5 are also supported but you ' +\n              'have to enable WebSockets in about:config.');\n    };\n}\n\nmpl.figure = function(figure_id, websocket, ondownload, parent_element) {\n    this.id = figure_id;\n\n    this.ws = websocket;\n\n    this.supports_binary = (this.ws.binaryType != undefined);\n\n    if (!this.supports_binary) {\n        var warnings = document.getElementById(\"mpl-warnings\");\n        if (warnings) {\n            warnings.style.display = 'block';\n            warnings.textContent = (\n                \"This browser does not support binary websocket messages. \" +\n                    \"Performance may be slow.\");\n        }\n    }\n\n    this.imageObj = new Image();\n\n    this.context = undefined;\n    this.message = undefined;\n    this.canvas = undefined;\n    this.rubberband_canvas = undefined;\n    this.rubberband_context = undefined;\n    this.format_dropdown = undefined;\n\n    this.image_mode = 'full';\n\n    this.root = $('<div/>');\n    this._root_extra_style(this.root)\n    this.root.attr('style', 'display: inline-block');\n\n    $(parent_element).append(this.root);\n\n    this._init_header(this);\n    this._init_canvas(this);\n    this._init_toolbar(this);\n\n    var fig = this;\n\n    this.waiting = false;\n\n    this.ws.onopen =  function () {\n            fig.send_message(\"supports_binary\", {value: fig.supports_binary});\n            fig.send_message(\"send_image_mode\", {});\n            if (mpl.ratio != 1) {\n                fig.send_message(\"set_dpi_ratio\", {'dpi_ratio': mpl.ratio});\n            }\n            fig.send_message(\"refresh\", {});\n        }\n\n    this.imageObj.onload = function() {\n            if (fig.image_mode == 'full') {\n                // Full images could contain transparency (where diff images\n                // almost always do), so we need to clear the canvas so that\n                // there is no ghosting.\n                fig.context.clearRect(0, 0, fig.canvas.width, fig.canvas.height);\n            }\n            fig.context.drawImage(fig.imageObj, 0, 0);\n        };\n\n    this.imageObj.onunload = function() {\n        fig.ws.close();\n    }\n\n    this.ws.onmessage = this._make_on_message_function(this);\n\n    this.ondownload = ondownload;\n}\n\nmpl.figure.prototype._init_header = function() {\n    var titlebar = $(\n        '<div class=\"ui-dialog-titlebar ui-widget-header ui-corner-all ' +\n        'ui-helper-clearfix\"/>');\n    var titletext = $(\n        '<div class=\"ui-dialog-title\" style=\"width: 100%; ' +\n        'text-align: center; padding: 3px;\"/>');\n    titlebar.append(titletext)\n    this.root.append(titlebar);\n    this.header = titletext[0];\n}\n\n\n\nmpl.figure.prototype._canvas_extra_style = function(canvas_div) {\n\n}\n\n\nmpl.figure.prototype._root_extra_style = function(canvas_div) {\n\n}\n\nmpl.figure.prototype._init_canvas = function() {\n    var fig = this;\n\n    var canvas_div = $('<div/>');\n\n    canvas_div.attr('style', 'position: relative; clear: both; outline: 0');\n\n    function canvas_keyboard_event(event) {\n        return fig.key_event(event, event['data']);\n    }\n\n    canvas_div.keydown('key_press', canvas_keyboard_event);\n    canvas_div.keyup('key_release', canvas_keyboard_event);\n    this.canvas_div = canvas_div\n    this._canvas_extra_style(canvas_div)\n    this.root.append(canvas_div);\n\n    var canvas = $('<canvas/>');\n    canvas.addClass('mpl-canvas');\n    canvas.attr('style', \"left: 0; top: 0; z-index: 0; outline: 0\")\n\n    this.canvas = canvas[0];\n    this.context = canvas[0].getContext(\"2d\");\n\n    var backingStore = this.context.backingStorePixelRatio ||\n\tthis.context.webkitBackingStorePixelRatio ||\n\tthis.context.mozBackingStorePixelRatio ||\n\tthis.context.msBackingStorePixelRatio ||\n\tthis.context.oBackingStorePixelRatio ||\n\tthis.context.backingStorePixelRatio || 1;\n\n    mpl.ratio = (window.devicePixelRatio || 1) / backingStore;\n\n    var rubberband = $('<canvas/>');\n    rubberband.attr('style', \"position: absolute; left: 0; top: 0; z-index: 1;\")\n\n    var pass_mouse_events = true;\n\n    canvas_div.resizable({\n        start: function(event, ui) {\n            pass_mouse_events = false;\n        },\n        resize: function(event, ui) {\n            fig.request_resize(ui.size.width, ui.size.height);\n        },\n        stop: function(event, ui) {\n            pass_mouse_events = true;\n            fig.request_resize(ui.size.width, ui.size.height);\n        },\n    });\n\n    function mouse_event_fn(event) {\n        if (pass_mouse_events)\n            return fig.mouse_event(event, event['data']);\n    }\n\n    rubberband.mousedown('button_press', mouse_event_fn);\n    rubberband.mouseup('button_release', mouse_event_fn);\n    // Throttle sequential mouse events to 1 every 20ms.\n    rubberband.mousemove('motion_notify', mouse_event_fn);\n\n    rubberband.mouseenter('figure_enter', mouse_event_fn);\n    rubberband.mouseleave('figure_leave', mouse_event_fn);\n\n    canvas_div.on(\"wheel\", function (event) {\n        event = event.originalEvent;\n        event['data'] = 'scroll'\n        if (event.deltaY < 0) {\n            event.step = 1;\n        } else {\n            event.step = -1;\n        }\n        mouse_event_fn(event);\n    });\n\n    canvas_div.append(canvas);\n    canvas_div.append(rubberband);\n\n    this.rubberband = rubberband;\n    this.rubberband_canvas = rubberband[0];\n    this.rubberband_context = rubberband[0].getContext(\"2d\");\n    this.rubberband_context.strokeStyle = \"#000000\";\n\n    this._resize_canvas = function(width, height) {\n        // Keep the size of the canvas, canvas container, and rubber band\n        // canvas in synch.\n        canvas_div.css('width', width)\n        canvas_div.css('height', height)\n\n        canvas.attr('width', width * mpl.ratio);\n        canvas.attr('height', height * mpl.ratio);\n        canvas.attr('style', 'width: ' + width + 'px; height: ' + height + 'px;');\n\n        rubberband.attr('width', width);\n        rubberband.attr('height', height);\n    }\n\n    // Set the figure to an initial 600x600px, this will subsequently be updated\n    // upon first draw.\n    this._resize_canvas(600, 600);\n\n    // Disable right mouse context menu.\n    $(this.rubberband_canvas).bind(\"contextmenu\",function(e){\n        return false;\n    });\n\n    function set_focus () {\n        canvas.focus();\n        canvas_div.focus();\n    }\n\n    window.setTimeout(set_focus, 100);\n}\n\nmpl.figure.prototype._init_toolbar = function() {\n    var fig = this;\n\n    var nav_element = $('<div/>')\n    nav_element.attr('style', 'width: 100%');\n    this.root.append(nav_element);\n\n    // Define a callback function for later on.\n    function toolbar_event(event) {\n        return fig.toolbar_button_onclick(event['data']);\n    }\n    function toolbar_mouse_event(event) {\n        return fig.toolbar_button_onmouseover(event['data']);\n    }\n\n    for(var toolbar_ind in mpl.toolbar_items) {\n        var name = mpl.toolbar_items[toolbar_ind][0];\n        var tooltip = mpl.toolbar_items[toolbar_ind][1];\n        var image = mpl.toolbar_items[toolbar_ind][2];\n        var method_name = mpl.toolbar_items[toolbar_ind][3];\n\n        if (!name) {\n            // put a spacer in here.\n            continue;\n        }\n        var button = $('<button/>');\n        button.addClass('ui-button ui-widget ui-state-default ui-corner-all ' +\n                        'ui-button-icon-only');\n        button.attr('role', 'button');\n        button.attr('aria-disabled', 'false');\n        button.click(method_name, toolbar_event);\n        button.mouseover(tooltip, toolbar_mouse_event);\n\n        var icon_img = $('<span/>');\n        icon_img.addClass('ui-button-icon-primary ui-icon');\n        icon_img.addClass(image);\n        icon_img.addClass('ui-corner-all');\n\n        var tooltip_span = $('<span/>');\n        tooltip_span.addClass('ui-button-text');\n        tooltip_span.html(tooltip);\n\n        button.append(icon_img);\n        button.append(tooltip_span);\n\n        nav_element.append(button);\n    }\n\n    var fmt_picker_span = $('<span/>');\n\n    var fmt_picker = $('<select/>');\n    fmt_picker.addClass('mpl-toolbar-option ui-widget ui-widget-content');\n    fmt_picker_span.append(fmt_picker);\n    nav_element.append(fmt_picker_span);\n    this.format_dropdown = fmt_picker[0];\n\n    for (var ind in mpl.extensions) {\n        var fmt = mpl.extensions[ind];\n        var option = $(\n            '<option/>', {selected: fmt === mpl.default_extension}).html(fmt);\n        fmt_picker.append(option)\n    }\n\n    // Add hover states to the ui-buttons\n    $( \".ui-button\" ).hover(\n        function() { $(this).addClass(\"ui-state-hover\");},\n        function() { $(this).removeClass(\"ui-state-hover\");}\n    );\n\n    var status_bar = $('<span class=\"mpl-message\"/>');\n    nav_element.append(status_bar);\n    this.message = status_bar[0];\n}\n\nmpl.figure.prototype.request_resize = function(x_pixels, y_pixels) {\n    // Request matplotlib to resize the figure. Matplotlib will then trigger a resize in the client,\n    // which will in turn request a refresh of the image.\n    this.send_message('resize', {'width': x_pixels, 'height': y_pixels});\n}\n\nmpl.figure.prototype.send_message = function(type, properties) {\n    properties['type'] = type;\n    properties['figure_id'] = this.id;\n    this.ws.send(JSON.stringify(properties));\n}\n\nmpl.figure.prototype.send_draw_message = function() {\n    if (!this.waiting) {\n        this.waiting = true;\n        this.ws.send(JSON.stringify({type: \"draw\", figure_id: this.id}));\n    }\n}\n\n\nmpl.figure.prototype.handle_save = function(fig, msg) {\n    var format_dropdown = fig.format_dropdown;\n    var format = format_dropdown.options[format_dropdown.selectedIndex].value;\n    fig.ondownload(fig, format);\n}\n\n\nmpl.figure.prototype.handle_resize = function(fig, msg) {\n    var size = msg['size'];\n    if (size[0] != fig.canvas.width || size[1] != fig.canvas.height) {\n        fig._resize_canvas(size[0], size[1]);\n        fig.send_message(\"refresh\", {});\n    };\n}\n\nmpl.figure.prototype.handle_rubberband = function(fig, msg) {\n    var x0 = msg['x0'] / mpl.ratio;\n    var y0 = (fig.canvas.height - msg['y0']) / mpl.ratio;\n    var x1 = msg['x1'] / mpl.ratio;\n    var y1 = (fig.canvas.height - msg['y1']) / mpl.ratio;\n    x0 = Math.floor(x0) + 0.5;\n    y0 = Math.floor(y0) + 0.5;\n    x1 = Math.floor(x1) + 0.5;\n    y1 = Math.floor(y1) + 0.5;\n    var min_x = Math.min(x0, x1);\n    var min_y = Math.min(y0, y1);\n    var width = Math.abs(x1 - x0);\n    var height = Math.abs(y1 - y0);\n\n    fig.rubberband_context.clearRect(\n        0, 0, fig.canvas.width, fig.canvas.height);\n\n    fig.rubberband_context.strokeRect(min_x, min_y, width, height);\n}\n\nmpl.figure.prototype.handle_figure_label = function(fig, msg) {\n    // Updates the figure title.\n    fig.header.textContent = msg['label'];\n}\n\nmpl.figure.prototype.handle_cursor = function(fig, msg) {\n    var cursor = msg['cursor'];\n    switch(cursor)\n    {\n    case 0:\n        cursor = 'pointer';\n        break;\n    case 1:\n        cursor = 'default';\n        break;\n    case 2:\n        cursor = 'crosshair';\n        break;\n    case 3:\n        cursor = 'move';\n        break;\n    }\n    fig.rubberband_canvas.style.cursor = cursor;\n}\n\nmpl.figure.prototype.handle_message = function(fig, msg) {\n    fig.message.textContent = msg['message'];\n}\n\nmpl.figure.prototype.handle_draw = function(fig, msg) {\n    // Request the server to send over a new figure.\n    fig.send_draw_message();\n}\n\nmpl.figure.prototype.handle_image_mode = function(fig, msg) {\n    fig.image_mode = msg['mode'];\n}\n\nmpl.figure.prototype.updated_canvas_event = function() {\n    // Called whenever the canvas gets updated.\n    this.send_message(\"ack\", {});\n}\n\n// A function to construct a web socket function for onmessage handling.\n// Called in the figure constructor.\nmpl.figure.prototype._make_on_message_function = function(fig) {\n    return function socket_on_message(evt) {\n        if (evt.data instanceof Blob) {\n            /* FIXME: We get \"Resource interpreted as Image but\n             * transferred with MIME type text/plain:\" errors on\n             * Chrome.  But how to set the MIME type?  It doesn't seem\n             * to be part of the websocket stream */\n            evt.data.type = \"image/png\";\n\n            /* Free the memory for the previous frames */\n            if (fig.imageObj.src) {\n                (window.URL || window.webkitURL).revokeObjectURL(\n                    fig.imageObj.src);\n            }\n\n            fig.imageObj.src = (window.URL || window.webkitURL).createObjectURL(\n                evt.data);\n            fig.updated_canvas_event();\n            fig.waiting = false;\n            return;\n        }\n        else if (typeof evt.data === 'string' && evt.data.slice(0, 21) == \"data:image/png;base64\") {\n            fig.imageObj.src = evt.data;\n            fig.updated_canvas_event();\n            fig.waiting = false;\n            return;\n        }\n\n        var msg = JSON.parse(evt.data);\n        var msg_type = msg['type'];\n\n        // Call the  \"handle_{type}\" callback, which takes\n        // the figure and JSON message as its only arguments.\n        try {\n            var callback = fig[\"handle_\" + msg_type];\n        } catch (e) {\n            console.log(\"No handler for the '\" + msg_type + \"' message type: \", msg);\n            return;\n        }\n\n        if (callback) {\n            try {\n                // console.log(\"Handling '\" + msg_type + \"' message: \", msg);\n                callback(fig, msg);\n            } catch (e) {\n                console.log(\"Exception inside the 'handler_\" + msg_type + \"' callback:\", e, e.stack, msg);\n            }\n        }\n    };\n}\n\n// from http://stackoverflow.com/questions/1114465/getting-mouse-location-in-canvas\nmpl.findpos = function(e) {\n    //this section is from http://www.quirksmode.org/js/events_properties.html\n    var targ;\n    if (!e)\n        e = window.event;\n    if (e.target)\n        targ = e.target;\n    else if (e.srcElement)\n        targ = e.srcElement;\n    if (targ.nodeType == 3) // defeat Safari bug\n        targ = targ.parentNode;\n\n    // jQuery normalizes the pageX and pageY\n    // pageX,Y are the mouse positions relative to the document\n    // offset() returns the position of the element relative to the document\n    var x = e.pageX - $(targ).offset().left;\n    var y = e.pageY - $(targ).offset().top;\n\n    return {\"x\": x, \"y\": y};\n};\n\n/*\n * return a copy of an object with only non-object keys\n * we need this to avoid circular references\n * http://stackoverflow.com/a/24161582/3208463\n */\nfunction simpleKeys (original) {\n  return Object.keys(original).reduce(function (obj, key) {\n    if (typeof original[key] !== 'object')\n        obj[key] = original[key]\n    return obj;\n  }, {});\n}\n\nmpl.figure.prototype.mouse_event = function(event, name) {\n    var canvas_pos = mpl.findpos(event)\n\n    if (name === 'button_press')\n    {\n        this.canvas.focus();\n        this.canvas_div.focus();\n    }\n\n    var x = canvas_pos.x * mpl.ratio;\n    var y = canvas_pos.y * mpl.ratio;\n\n    this.send_message(name, {x: x, y: y, button: event.button,\n                             step: event.step,\n                             guiEvent: simpleKeys(event)});\n\n    /* This prevents the web browser from automatically changing to\n     * the text insertion cursor when the button is pressed.  We want\n     * to control all of the cursor setting manually through the\n     * 'cursor' event from matplotlib */\n    event.preventDefault();\n    return false;\n}\n\nmpl.figure.prototype._key_event_extra = function(event, name) {\n    // Handle any extra behaviour associated with a key event\n}\n\nmpl.figure.prototype.key_event = function(event, name) {\n\n    // Prevent repeat events\n    if (name == 'key_press')\n    {\n        if (event.which === this._key)\n            return;\n        else\n            this._key = event.which;\n    }\n    if (name == 'key_release')\n        this._key = null;\n\n    var value = '';\n    if (event.ctrlKey && event.which != 17)\n        value += \"ctrl+\";\n    if (event.altKey && event.which != 18)\n        value += \"alt+\";\n    if (event.shiftKey && event.which != 16)\n        value += \"shift+\";\n\n    value += 'k';\n    value += event.which.toString();\n\n    this._key_event_extra(event, name);\n\n    this.send_message(name, {key: value,\n                             guiEvent: simpleKeys(event)});\n    return false;\n}\n\nmpl.figure.prototype.toolbar_button_onclick = function(name) {\n    if (name == 'download') {\n        this.handle_save(this, null);\n    } else {\n        this.send_message(\"toolbar_button\", {name: name});\n    }\n};\n\nmpl.figure.prototype.toolbar_button_onmouseover = function(tooltip) {\n    this.message.textContent = tooltip;\n};\nmpl.toolbar_items = [[\"Home\", \"Reset original view\", \"fa fa-home icon-home\", \"home\"], [\"Back\", \"Back to previous view\", \"fa fa-arrow-left icon-arrow-left\", \"back\"], [\"Forward\", \"Forward to next view\", \"fa fa-arrow-right icon-arrow-right\", \"forward\"], [\"\", \"\", \"\", \"\"], [\"Pan\", \"Pan axes with left mouse, zoom with right\", \"fa fa-arrows icon-move\", \"pan\"], [\"Zoom\", \"Zoom to rectangle\", \"fa fa-square-o icon-check-empty\", \"zoom\"], [\"\", \"\", \"\", \"\"], [\"Download\", \"Download plot\", \"fa fa-floppy-o icon-save\", \"download\"]];\n\nmpl.extensions = [\"eps\", \"jpeg\", \"pdf\", \"png\", \"ps\", \"raw\", \"svg\", \"tif\"];\n\nmpl.default_extension = \"png\";var comm_websocket_adapter = function(comm) {\n    // Create a \"websocket\"-like object which calls the given IPython comm\n    // object with the appropriate methods. Currently this is a non binary\n    // socket, so there is still some room for performance tuning.\n    var ws = {};\n\n    ws.close = function() {\n        comm.close()\n    };\n    ws.send = function(m) {\n        //console.log('sending', m);\n        comm.send(m);\n    };\n    // Register the callback with on_msg.\n    comm.on_msg(function(msg) {\n        //console.log('receiving', msg['content']['data'], msg);\n        // Pass the mpl event to the overridden (by mpl) onmessage function.\n        ws.onmessage(msg['content']['data'])\n    });\n    return ws;\n}\n\nmpl.mpl_figure_comm = function(comm, msg) {\n    // This is the function which gets called when the mpl process\n    // starts-up an IPython Comm through the \"matplotlib\" channel.\n\n    var id = msg.content.data.id;\n    // Get hold of the div created by the display call when the Comm\n    // socket was opened in Python.\n    var element = $(\"#\" + id);\n    var ws_proxy = comm_websocket_adapter(comm)\n\n    function ondownload(figure, format) {\n        window.open(figure.imageObj.src);\n    }\n\n    var fig = new mpl.figure(id, ws_proxy,\n                           ondownload,\n                           element.get(0));\n\n    // Call onopen now - mpl needs it, as it is assuming we've passed it a real\n    // web socket which is closed, not our websocket->open comm proxy.\n    ws_proxy.onopen();\n\n    fig.parent_element = element.get(0);\n    fig.cell_info = mpl.find_output_cell(\"<div id='\" + id + \"'></div>\");\n    if (!fig.cell_info) {\n        console.error(\"Failed to find cell for figure\", id, fig);\n        return;\n    }\n\n    var output_index = fig.cell_info[2]\n    var cell = fig.cell_info[0];\n\n};\n\nmpl.figure.prototype.handle_close = function(fig, msg) {\n    var width = fig.canvas.width/mpl.ratio\n    fig.root.unbind('remove')\n\n    // Update the output cell to use the data from the current canvas.\n    fig.push_to_output();\n    var dataURL = fig.canvas.toDataURL();\n    // Re-enable the keyboard manager in IPython - without this line, in FF,\n    // the notebook keyboard shortcuts fail.\n    IPython.keyboard_manager.enable()\n    $(fig.parent_element).html('<img src=\"' + dataURL + '\" width=\"' + width + '\">');\n    fig.close_ws(fig, msg);\n}\n\nmpl.figure.prototype.close_ws = function(fig, msg){\n    fig.send_message('closing', msg);\n    // fig.ws.close()\n}\n\nmpl.figure.prototype.push_to_output = function(remove_interactive) {\n    // Turn the data on the canvas into data in the output cell.\n    var width = this.canvas.width/mpl.ratio\n    var dataURL = this.canvas.toDataURL();\n    this.cell_info[1]['text/html'] = '<img src=\"' + dataURL + '\" width=\"' + width + '\">';\n}\n\nmpl.figure.prototype.updated_canvas_event = function() {\n    // Tell IPython that the notebook contents must change.\n    IPython.notebook.set_dirty(true);\n    this.send_message(\"ack\", {});\n    var fig = this;\n    // Wait a second, then push the new image to the DOM so\n    // that it is saved nicely (might be nice to debounce this).\n    setTimeout(function () { fig.push_to_output() }, 1000);\n}\n\nmpl.figure.prototype._init_toolbar = function() {\n    var fig = this;\n\n    var nav_element = $('<div/>')\n    nav_element.attr('style', 'width: 100%');\n    this.root.append(nav_element);\n\n    // Define a callback function for later on.\n    function toolbar_event(event) {\n        return fig.toolbar_button_onclick(event['data']);\n    }\n    function toolbar_mouse_event(event) {\n        return fig.toolbar_button_onmouseover(event['data']);\n    }\n\n    for(var toolbar_ind in mpl.toolbar_items){\n        var name = mpl.toolbar_items[toolbar_ind][0];\n        var tooltip = mpl.toolbar_items[toolbar_ind][1];\n        var image = mpl.toolbar_items[toolbar_ind][2];\n        var method_name = mpl.toolbar_items[toolbar_ind][3];\n\n        if (!name) { continue; };\n\n        var button = $('<button class=\"btn btn-default\" href=\"#\" title=\"' + name + '\"><i class=\"fa ' + image + ' fa-lg\"></i></button>');\n        button.click(method_name, toolbar_event);\n        button.mouseover(tooltip, toolbar_mouse_event);\n        nav_element.append(button);\n    }\n\n    // Add the status bar.\n    var status_bar = $('<span class=\"mpl-message\" style=\"text-align:right; float: right;\"/>');\n    nav_element.append(status_bar);\n    this.message = status_bar[0];\n\n    // Add the close button to the window.\n    var buttongrp = $('<div class=\"btn-group inline pull-right\"></div>');\n    var button = $('<button class=\"btn btn-mini btn-primary\" href=\"#\" title=\"Stop Interaction\"><i class=\"fa fa-power-off icon-remove icon-large\"></i></button>');\n    button.click(function (evt) { fig.handle_close(fig, {}); } );\n    button.mouseover('Stop Interaction', toolbar_mouse_event);\n    buttongrp.append(button);\n    var titlebar = this.root.find($('.ui-dialog-titlebar'));\n    titlebar.prepend(buttongrp);\n}\n\nmpl.figure.prototype._root_extra_style = function(el){\n    var fig = this\n    el.on(\"remove\", function(){\n\tfig.close_ws(fig, {});\n    });\n}\n\nmpl.figure.prototype._canvas_extra_style = function(el){\n    // this is important to make the div 'focusable\n    el.attr('tabindex', 0)\n    // reach out to IPython and tell the keyboard manager to turn it's self\n    // off when our div gets focus\n\n    // location in version 3\n    if (IPython.notebook.keyboard_manager) {\n        IPython.notebook.keyboard_manager.register_events(el);\n    }\n    else {\n        // location in version 2\n        IPython.keyboard_manager.register_events(el);\n    }\n\n}\n\nmpl.figure.prototype._key_event_extra = function(event, name) {\n    var manager = IPython.notebook.keyboard_manager;\n    if (!manager)\n        manager = IPython.keyboard_manager;\n\n    // Check for shift+enter\n    if (event.shiftKey && event.which == 13) {\n        this.canvas_div.blur();\n        event.shiftKey = false;\n        // Send a \"J\" for go to next cell\n        event.which = 74;\n        event.keyCode = 74;\n        manager.command_mode();\n        manager.handle_keydown(event);\n    }\n}\n\nmpl.figure.prototype.handle_save = function(fig, msg) {\n    fig.ondownload(fig, null);\n}\n\n\nmpl.find_output_cell = function(html_output) {\n    // Return the cell and output element which can be found *uniquely* in the notebook.\n    // Note - this is a bit hacky, but it is done because the \"notebook_saving.Notebook\"\n    // IPython event is triggered only after the cells have been serialised, which for\n    // our purposes (turning an active figure into a static one), is too late.\n    var cells = IPython.notebook.get_cells();\n    var ncells = cells.length;\n    for (var i=0; i<ncells; i++) {\n        var cell = cells[i];\n        if (cell.cell_type === 'code'){\n            for (var j=0; j<cell.output_area.outputs.length; j++) {\n                var data = cell.output_area.outputs[j];\n                if (data.data) {\n                    // IPython >= 3 moved mimebundle to data attribute of output\n                    data = data.data;\n                }\n                if (data['text/html'] == html_output) {\n                    return [cell, data, j];\n                }\n            }\n        }\n    }\n}\n\n// Register the function which deals with the matplotlib target/channel.\n// The kernel may be null if the page has been refreshed.\nif (IPython.notebook.kernel != null) {\n    IPython.notebook.kernel.comm_manager.register_target('matplotlib', mpl.mpl_figure_comm);\n}\n",
      "text/plain": [
       "<IPython.core.display.Javascript object>"
      ]
     },
     "metadata": {},
     "output_type": "display_data"
    },
    {
     "data": {
      "text/html": [
       "<img src=\"data:image/png;base64,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\" width=\"640\">"
      ],
      "text/plain": [
       "<IPython.core.display.HTML object>"
      ]
     },
     "metadata": {},
     "output_type": "display_data"
    }
   ],
   "source": [
    "%matplotlib notebook\n",
    "# Generate Datay_pred###  Support Vector  Regression\n",
    "\n",
    "num = 52\n",
    "\n",
    "\n",
    "x= data_test.flatten()\n",
    "y= y_pred.flatten()\n",
    "\n",
    "labels = np.random.choice(['Actual_Glucose', 'Predicted_Glucose'], num)\n",
    "df = pd.DataFrame(dict(x=x, y=y, label=labels))\n",
    "\n",
    "groups = df.groupby('label')\n",
    "\n",
    "# Plot\n",
    "fig, ax = plt.subplots()\n",
    "ax.margins(0.05) # Optional, just adds 5% padding to the autoscaling\n",
    "for name, group in groups:\n",
    "    ax.plot(group.x, group.y, marker='o', linestyle='', ms=8, label=name)\n",
    "    ax = sns.regplot(x=x, y=y, data=df)\n",
    "ax.legend()\n",
    "plt.show()\n",
    "#plt.savefig('data_mat/regression.png')"
   ]
  },
  {
   "cell_type": "code",
   "execution_count": 140,
   "metadata": {},
   "outputs": [],
   "source": [
    "%matplotlib notebook\n",
    "sns.histplot(data=df, x=x,  col=labels, multiple=\"dodge\")\n",
    "#sns.displot(df, x=x, hue=x, kind=\"kde\", multiple=\"stack\")"
   ]
  },
  {
   "cell_type": "code",
   "execution_count": 141,
   "metadata": {},
   "outputs": [],
   "source": [
    "%matplotlib notebook\n",
    "sns.histplot(data=df, x=y, hue=labels, multiple=\"dodge\")"
   ]
  },
  {
   "cell_type": "code",
   "execution_count": null,
   "metadata": {},
   "outputs": [],
   "source": []
  }
 ],
 "metadata": {
  "kernelspec": {
   "display_name": "Python 3",
   "language": "python",
   "name": "python3"
  },
  "language_info": {
   "codemirror_mode": {
    "name": "ipython",
    "version": 3
   },
   "file_extension": ".py",
   "mimetype": "text/x-python",
   "name": "python",
   "nbconvert_exporter": "python",
   "pygments_lexer": "ipython3",
   "version": "3.6.7"
  }
 },
 "nbformat": 4,
 "nbformat_minor": 2
}
