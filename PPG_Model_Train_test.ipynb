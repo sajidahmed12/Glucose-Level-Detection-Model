{
 "cells": [
  {
   "cell_type": "markdown",
   "metadata": {},
   "source": [
    "## Import libraries\n"
   ]
  },
  {
   "cell_type": "code",
   "execution_count": 2,
   "metadata": {},
   "outputs": [],
   "source": [
    "import pandas as pd\n",
    "import numpy as np\n",
    "import matplotlib.pyplot as plt\n",
    "import seaborn as sns\n",
    "from scipy.io import loadmat\n",
    "from sklearn.svm import SVR\n",
    "from scipy import signal, sparse \n",
    "from scipy.sparse.linalg import spsolve\n",
    "from scipy.signal import argrelmax\n",
    "from scipy.ndimage.filters import gaussian_filter1d\n",
    "from sklearn.ensemble import RandomForestRegressor \n",
    "from sklearn.metrics import mean_squared_error, r2_score\n",
    "from sklearn.preprocessing import StandardScaler\n",
    "from sklearn.model_selection import train_test_split\n",
    "from scipy.ndimage import gaussian_filter\n",
    "from scipy.signal import find_peaks, peak_prominences\n",
    "from scipy.signal import chirp, find_peaks, peak_widths"
   ]
  },
  {
   "cell_type": "markdown",
   "metadata": {},
   "source": [
    "### Matlab file to CSV Conversion\n"
   ]
  },
  {
   "cell_type": "code",
   "execution_count": 2,
   "metadata": {},
   "outputs": [],
   "source": [
    "# #Matlab file to CSV Conversion\n",
    "\n",
    "# data1 = loadmat(\"data/file/Y_new.mat\")\n",
    "# for i in data1:\n",
    "#     if '__' not in i and 'readme' not in i:\n",
    "#         np.savetxt((\"data/file/Y_new.csv\"),data1[i],delimiter=',')\n",
    "\n",
    "# data2 = loadmat(\"data/file/Y_old.mat\")        \n",
    "# for j in data2:\n",
    "#     if '__' not in j and 'readme' not in j:\n",
    "#         np.savetxt((\"data/file/Y_old.csv\"),data2[j],delimiter=',')   \n"
   ]
  },
  {
   "cell_type": "markdown",
   "metadata": {},
   "source": [
    "### Load CSV Data\n"
   ]
  },
  {
   "cell_type": "code",
   "execution_count": 3,
   "metadata": {},
   "outputs": [],
   "source": [
    "X_train = pd.read_csv('data/train/x_train.csv')\n",
    "y_train = pd.read_csv('data/train/y_train.csv')\n",
    "\n",
    "x_test = pd.read_csv('data/test/x_test.csv')\n",
    "y_test = pd.read_csv('data/test/y_test.csv')"
   ]
  },
  {
   "cell_type": "markdown",
   "metadata": {},
   "source": [
    "## *Preprocessing Training data\n"
   ]
  },
  {
   "cell_type": "code",
   "execution_count": 4,
   "metadata": {},
   "outputs": [],
   "source": [
    "                   #################################### X-TRAIN   ##################################\n",
    "#Apply 1st Gaussian   \n",
    "gauss_tr = gaussian_filter(X_train,sigma=0.5,cval=0.5, truncate=4.0)\n",
    "\n",
    "def baseline_als(y, lam, p, niter=10):\n",
    "    L = len(y)\n",
    "    D = sparse.csc_matrix(np.diff(np.eye(L), 2))\n",
    "    w = np.ones(L)\n",
    "    for i in range(niter):\n",
    "        W = sparse.spdiags(w, 0, L, L)\n",
    "        Z = W + lam * D.dot(D.transpose())\n",
    "        z = spsolve(Z, w*y)\n",
    "        w = p * (y > z) + (1-p) * (y < z)\n",
    "    return z\n",
    "\n",
    "\n",
    "#Baseline Correction ALS\n",
    "\n",
    "asx_tr =[]\n",
    "Corrected_base_tr =[]\n",
    "for i in range(len(gauss_tr)):\n",
    "    asx_tr.append(gauss_tr[i].flatten())\n",
    "    base_tr=asx_tr[i]-baseline_als(asx_tr[i], 1000, 0.05)\n",
    "    Corrected_base_tr.append(base_tr)\n",
    "\n",
    "\n",
    "#Apply 2nd Gaussian      \n",
    "gauss_2_tr = gaussian_filter(Corrected_base_tr,sigma=0.5,cval=0.5, truncate=4.0)\n",
    "\n",
    "\n",
    "\n",
    "#Derivatives\n",
    "signal_1stdev_tr =[]\n",
    "signal_2nddev_tr =[]\n",
    "smoothed_signal_tr =[]\n",
    "c=0\n",
    "for i in range(len(gauss_2_tr)):\n",
    "    fstdev_tr = (np.gradient(gauss_2_tr[i]))\n",
    "    signal_1stdev_tr.append(fstdev_tr)\n",
    "    second_dev_tr = np.gradient(fstdev_tr)\n",
    "    signal_2nddev_tr.append(second_dev_tr)\n",
    "    sm_signal_tr = gaussian_filter1d(second_dev_tr, 2.4)\n",
    "    smoothed_signal_tr.append(sm_signal_tr)\n",
    "    c=c+1\n",
    "    \n",
    "#Peak Detection   \n",
    "xpeak, _ = find_peaks(smoothed_signal_tr[0], distance=1)\n",
    "yheight = peak_prominences(smoothed_signal_tr[0], xpeak)[0]\n",
    "\n",
    "xpeak =[]\n",
    "yheight =[]\n",
    "\n",
    "\n",
    "for i in range(len(smoothed_signal_tr)):\n",
    "    peak, _ = find_peaks(smoothed_signal_tr[i], distance=1)\n",
    "    xpeak.append(peak)\n",
    "    height=peak_prominences(smoothed_signal_tr[i], peak)[0]\n",
    "    yheight.append(height)"
   ]
  },
  {
   "cell_type": "markdown",
   "metadata": {},
   "source": [
    "## *Preprocessing testing Data\n"
   ]
  },
  {
   "cell_type": "code",
   "execution_count": 4,
   "metadata": {},
   "outputs": [],
   "source": [
    "#                    #################################### X-Test   ##################################\n",
    "# #Apply 1st Gaussian   \n",
    "gauss_1_ts = gaussian_filter(x_test,sigma=0.5,cval=0.5, truncate=4.0)\n",
    "\n",
    "def baseline_als(y, lam, p, niter=10):\n",
    "    L = len(y)\n",
    "    D = sparse.csc_matrix(np.diff(np.eye(L), 2))\n",
    "    w = np.ones(L)\n",
    "    for i in range(niter):\n",
    "        W = sparse.spdiags(w, 0, L, L)\n",
    "        Z = W + lam * D.dot(D.transpose())\n",
    "        z = spsolve(Z, w*y)\n",
    "        w = p * (y > z) + (1-p) * (y < z)\n",
    "    return z\n",
    "\n",
    "\n",
    "#Baseline Correction ALS\n",
    "\n",
    "asx =[]\n",
    "Corrected_base_ts  =[]\n",
    "for i in range(len(gauss_1_ts )):\n",
    "    asx.append(gauss_1_ts[i].flatten())\n",
    "    base=asx[i]-baseline_als(asx[i], 1000, 0.05)\n",
    "    Corrected_base_ts .append(base)\n",
    "\n",
    "#Apply 2nd Gaussian      \n",
    "gauss_2_ts = gaussian_filter(Corrected_base_ts,sigma=0.5,cval=0.5, truncate=4.0)\n",
    "\n",
    "\n",
    "#Derivatives\n",
    "signal_1stdev_ts  =[]\n",
    "signal_2nddev_ts  =[]\n",
    "smoothed_signal_ts  =[]\n",
    "c=0\n",
    "for i in range(len(gauss_2_ts )):\n",
    "    fstdev_ts = (np.gradient(gauss_2_ts [i]))\n",
    "    signal_1stdev_ts .append(fstdev_ts)\n",
    "    second_dev_ts = np.gradient(fstdev_ts)\n",
    "    signal_2nddev_ts .append(second_dev_ts)\n",
    "    sm_signal_ts = gaussian_filter1d(second_dev_ts, 2.4)\n",
    "    smoothed_signal_ts .append(sm_signal_ts)\n",
    "    c=c+1\n",
    "    \n",
    "    \n",
    "#Peak Detection   \n",
    "xpeak, _ = find_peaks(smoothed_signal_ts [0], distance=1)\n",
    "yheight = peak_prominences(smoothed_signal_ts [0], xpeak)[0]\n",
    "\n",
    "xpeak =[]\n",
    "yheight =[]\n",
    "\n",
    "\n",
    "for i in range(len(smoothed_signal_ts )):\n",
    "    peak, _ = find_peaks(smoothed_signal_ts [i], distance=1)\n",
    "    xpeak.append(peak)\n",
    "    height=peak_prominences(smoothed_signal_ts [i], peak)[0]\n",
    "    yheight.append(height)   "
   ]
  },
  {
   "cell_type": "markdown",
   "metadata": {},
   "source": [
    "## Choose best Filtered Signal for Regression\n",
    "### 1. Raw Signal\n",
    "### 2. Raw+ Gaussian Filter\n",
    "### 3. Raw+ Gaussian + ALS\n",
    "### 4. 1st Derivative Peaks\n",
    "### 5. 2nd Derivative Peaks\n",
    "### 6. Smoothed final Signal"
   ]
  },
  {
   "cell_type": "code",
   "execution_count": 229,
   "metadata": {},
   "outputs": [],
   "source": [
    "val_tr = smoothed_signal_tr\n",
    "\n",
    "val_ts = smoothed_signal_ts\n",
    "\n",
    "#X_train\n",
    "# gauss_tr \n",
    "# Corrected_base_tr \n",
    "# gauss_2_tr \n",
    "# signal_1stdev_tr \n",
    "# signal_2nddev_tr \n",
    "# smoothed_signal_tr\n",
    "\n",
    "#x_test\n",
    "# gauss_1_ts \n",
    "# Corrected_base_ts \n",
    "# gauss_2_ts \n",
    "# signal_1stdev_ts \n",
    "# signal_2nddev_ts \n",
    "# smoothed_signal_ts "
   ]
  },
  {
   "cell_type": "markdown",
   "metadata": {},
   "source": [
    "###  Random Forrest Regression\n"
   ]
  },
  {
   "cell_type": "code",
   "execution_count": 230,
   "metadata": {},
   "outputs": [
    {
     "name": "stdout",
     "output_type": "stream",
     "text": [
      "RandomForestRegressor(bootstrap=True, criterion='mse', max_depth=None,\n",
      "           max_features='auto', max_leaf_nodes=None,\n",
      "           min_impurity_decrease=0.0, min_impurity_split=None,\n",
      "           min_samples_leaf=6, min_samples_split=2,\n",
      "           min_weight_fraction_leaf=0.0, n_estimators=25, n_jobs=None,\n",
      "           oob_score=False, random_state=8, verbose=0, warm_start=False) \n",
      "\n",
      "\n"
     ]
    }
   ],
   "source": [
    "regressor = RandomForestRegressor(n_estimators = 25, random_state = 8, max_features='auto', min_samples_leaf=6)                                \n",
    "#print(regressor.fit(val_tr, y_train.values.ravel()),'\\n\\n')"
   ]
  },
  {
   "cell_type": "markdown",
   "metadata": {},
   "source": [
    "###  Support Vector  Regression\n"
   ]
  },
  {
   "cell_type": "code",
   "execution_count": 231,
   "metadata": {},
   "outputs": [
    {
     "name": "stdout",
     "output_type": "stream",
     "text": [
      "Random Forrest Regression Test Results\n",
      "rmse_error 30.693446124759078\n",
      "Accuracy Score: -0.4537600801291528\n"
     ]
    }
   ],
   "source": [
    "testX = val_ts\n",
    "truey= y_test.values\n",
    "\n",
    "prediction= regressor.predict(testX)\n",
    "rmse = np.sqrt(mean_squared_error(truey, prediction))\n",
    "acc = r2_score(truey, prediction)               \n",
    "               \n",
    "print('Random Forrest Regression Test Results')\n",
    "print('rmse_error',rmse)\n",
    "print('Accuracy Score:' ,acc)"
   ]
  },
  {
   "cell_type": "code",
   "execution_count": 232,
   "metadata": {},
   "outputs": [],
   "source": [
    "# d1 = pd.DataFrame({'Real Values':truey.reshape(-1), 'Predicted Values':prediction, 'labels:'labels})\n",
    "# d1.to_csv(\"Prediction_without_273_ RFR.csv\")"
   ]
  },
  {
   "cell_type": "code",
   "execution_count": 233,
   "metadata": {},
   "outputs": [],
   "source": [
    "sc_X = StandardScaler()\n",
    "sc_y = StandardScaler()\n",
    "\n",
    "rawX = np.asarray(val_tr)\n",
    "rawy = np.asarray(y_train)\n",
    "\n",
    "trainX = sc_X.fit_transform(rawX)\n",
    "trainy = np.squeeze(sc_y.fit_transform(rawy.reshape(-1, 1)))\n",
    "\n",
    "testX = sc_X.fit_transform(val_ts)\n",
    "testy = np.squeeze(sc_y.fit_transform(truey.reshape(-1, 1)))"
   ]
  },
  {
   "cell_type": "code",
   "execution_count": 235,
   "metadata": {},
   "outputs": [
    {
     "name": "stdout",
     "output_type": "stream",
     "text": [
      "SVR(C=1.0, cache_size=200, coef0=0.0, degree=3, epsilon=0.5, gamma='auto',\n",
      "  kernel='rbf', max_iter=-1, shrinking=True, tol=0.001, verbose=False) \n",
      "\n",
      "\n",
      "Support Vector Machine Regression Results\n",
      "SVR rmse_error 26.586622936108142\n",
      "SVR Accuracy Score: -0.09075644519981463\n"
     ]
    }
   ],
   "source": [
    "regr = SVR(C=1.0, cache_size=200, coef0=0.0, degree=3, epsilon=0.5, gamma='auto',kernel='rbf', \n",
    "           max_iter=-1, shrinking=True, tol=0.001)\n",
    "print(regr.fit(trainX, trainy),'\\n\\n')\n",
    "\n",
    "\n",
    "y_pred = regr.predict(testX)\n",
    "y_pred = sc_y.inverse_transform(y_pred)\n",
    "\n",
    "\n",
    "data_test = sc_y.inverse_transform(testy.reshape(-1))\n",
    "svr_rmse = np.sqrt(mean_squared_error(data_test, y_pred))\n",
    "svr_acc = r2_score(data_test, y_pred)               \n",
    "               \n",
    "print('Support Vector Machine Regression Results')\n",
    "print('SVR rmse_error',svr_rmse)\n",
    "print('SVR Accuracy Score:' ,svr_acc)"
   ]
  },
  {
   "cell_type": "code",
   "execution_count": 236,
   "metadata": {},
   "outputs": [
    {
     "data": {
      "text/plain": [
       "array([ 84.6,  84.6,  84.6,  84.6,  73.8,  73.8,  73.8,  73.8,  88.2,\n",
       "        88.2,  88.2,  88.2, 106. , 106. , 106. ,  95.4,  95.4,  95.4,\n",
       "       130. , 130. , 130. , 148. , 148. , 148. , 121. , 121. , 121. ,\n",
       "       121. , 121. , 121. , 133. , 133. , 133. , 133. , 133. , 153. ,\n",
       "       153. , 153. ])"
      ]
     },
     "execution_count": 236,
     "metadata": {},
     "output_type": "execute_result"
    }
   ],
   "source": [
    "data_test"
   ]
  },
  {
   "cell_type": "code",
   "execution_count": 237,
   "metadata": {},
   "outputs": [
    {
     "data": {
      "text/plain": [
       "array([117.20288806, 117.17843762, 117.19110494, 117.19408236,\n",
       "       110.75333091, 111.91252194, 112.50228622, 112.62468477,\n",
       "       109.17712473, 109.24374626, 108.4879045 , 106.84873927,\n",
       "       107.92529695, 108.99749768, 110.05815497, 110.19317048,\n",
       "       114.04141195, 114.87207811, 111.93396075, 111.35264597,\n",
       "       112.63740858, 109.61361241, 108.2722626 , 106.79760749,\n",
       "       107.93243485, 109.11862139, 110.30946622, 110.68047283,\n",
       "       113.76796186, 111.21785595, 109.47440088, 109.0403959 ,\n",
       "       108.69885827, 109.13261465, 109.22243667, 109.72989577,\n",
       "       113.14087317, 114.90427098])"
      ]
     },
     "execution_count": 237,
     "metadata": {},
     "output_type": "execute_result"
    }
   ],
   "source": [
    "y_pred"
   ]
  },
  {
   "cell_type": "code",
   "execution_count": 238,
   "metadata": {},
   "outputs": [],
   "source": [
    "df = pd.DataFrame({'Real Values':data_test, 'Predicted Values':y_pred})\n",
    "df.to_csv(\"S.csv\")"
   ]
  },
  {
   "cell_type": "code",
   "execution_count": 239,
   "metadata": {},
   "outputs": [],
   "source": [
    "#df.to_csv('test - copy.csv')"
   ]
  },
  {
   "cell_type": "markdown",
   "metadata": {},
   "source": [
    "### Graph Plot\n"
   ]
  },
  {
   "cell_type": "code",
   "execution_count": 240,
   "metadata": {},
   "outputs": [
    {
     "data": {
      "application/javascript": "/* Put everything inside the global mpl namespace */\nwindow.mpl = {};\n\n\nmpl.get_websocket_type = function() {\n    if (typeof(WebSocket) !== 'undefined') {\n        return WebSocket;\n    } else if (typeof(MozWebSocket) !== 'undefined') {\n        return MozWebSocket;\n    } else {\n        alert('Your browser does not have WebSocket support.' +\n              'Please try Chrome, Safari or Firefox ≥ 6. ' +\n              'Firefox 4 and 5 are also supported but you ' +\n              'have to enable WebSockets in about:config.');\n    };\n}\n\nmpl.figure = function(figure_id, websocket, ondownload, parent_element) {\n    this.id = figure_id;\n\n    this.ws = websocket;\n\n    this.supports_binary = (this.ws.binaryType != undefined);\n\n    if (!this.supports_binary) {\n        var warnings = document.getElementById(\"mpl-warnings\");\n        if (warnings) {\n            warnings.style.display = 'block';\n            warnings.textContent = (\n                \"This browser does not support binary websocket messages. \" +\n                    \"Performance may be slow.\");\n        }\n    }\n\n    this.imageObj = new Image();\n\n    this.context = undefined;\n    this.message = undefined;\n    this.canvas = undefined;\n    this.rubberband_canvas = undefined;\n    this.rubberband_context = undefined;\n    this.format_dropdown = undefined;\n\n    this.image_mode = 'full';\n\n    this.root = $('<div/>');\n    this._root_extra_style(this.root)\n    this.root.attr('style', 'display: inline-block');\n\n    $(parent_element).append(this.root);\n\n    this._init_header(this);\n    this._init_canvas(this);\n    this._init_toolbar(this);\n\n    var fig = this;\n\n    this.waiting = false;\n\n    this.ws.onopen =  function () {\n            fig.send_message(\"supports_binary\", {value: fig.supports_binary});\n            fig.send_message(\"send_image_mode\", {});\n            if (mpl.ratio != 1) {\n                fig.send_message(\"set_dpi_ratio\", {'dpi_ratio': mpl.ratio});\n            }\n            fig.send_message(\"refresh\", {});\n        }\n\n    this.imageObj.onload = function() {\n            if (fig.image_mode == 'full') {\n                // Full images could contain transparency (where diff images\n                // almost always do), so we need to clear the canvas so that\n                // there is no ghosting.\n                fig.context.clearRect(0, 0, fig.canvas.width, fig.canvas.height);\n            }\n            fig.context.drawImage(fig.imageObj, 0, 0);\n        };\n\n    this.imageObj.onunload = function() {\n        fig.ws.close();\n    }\n\n    this.ws.onmessage = this._make_on_message_function(this);\n\n    this.ondownload = ondownload;\n}\n\nmpl.figure.prototype._init_header = function() {\n    var titlebar = $(\n        '<div class=\"ui-dialog-titlebar ui-widget-header ui-corner-all ' +\n        'ui-helper-clearfix\"/>');\n    var titletext = $(\n        '<div class=\"ui-dialog-title\" style=\"width: 100%; ' +\n        'text-align: center; padding: 3px;\"/>');\n    titlebar.append(titletext)\n    this.root.append(titlebar);\n    this.header = titletext[0];\n}\n\n\n\nmpl.figure.prototype._canvas_extra_style = function(canvas_div) {\n\n}\n\n\nmpl.figure.prototype._root_extra_style = function(canvas_div) {\n\n}\n\nmpl.figure.prototype._init_canvas = function() {\n    var fig = this;\n\n    var canvas_div = $('<div/>');\n\n    canvas_div.attr('style', 'position: relative; clear: both; outline: 0');\n\n    function canvas_keyboard_event(event) {\n        return fig.key_event(event, event['data']);\n    }\n\n    canvas_div.keydown('key_press', canvas_keyboard_event);\n    canvas_div.keyup('key_release', canvas_keyboard_event);\n    this.canvas_div = canvas_div\n    this._canvas_extra_style(canvas_div)\n    this.root.append(canvas_div);\n\n    var canvas = $('<canvas/>');\n    canvas.addClass('mpl-canvas');\n    canvas.attr('style', \"left: 0; top: 0; z-index: 0; outline: 0\")\n\n    this.canvas = canvas[0];\n    this.context = canvas[0].getContext(\"2d\");\n\n    var backingStore = this.context.backingStorePixelRatio ||\n\tthis.context.webkitBackingStorePixelRatio ||\n\tthis.context.mozBackingStorePixelRatio ||\n\tthis.context.msBackingStorePixelRatio ||\n\tthis.context.oBackingStorePixelRatio ||\n\tthis.context.backingStorePixelRatio || 1;\n\n    mpl.ratio = (window.devicePixelRatio || 1) / backingStore;\n\n    var rubberband = $('<canvas/>');\n    rubberband.attr('style', \"position: absolute; left: 0; top: 0; z-index: 1;\")\n\n    var pass_mouse_events = true;\n\n    canvas_div.resizable({\n        start: function(event, ui) {\n            pass_mouse_events = false;\n        },\n        resize: function(event, ui) {\n            fig.request_resize(ui.size.width, ui.size.height);\n        },\n        stop: function(event, ui) {\n            pass_mouse_events = true;\n            fig.request_resize(ui.size.width, ui.size.height);\n        },\n    });\n\n    function mouse_event_fn(event) {\n        if (pass_mouse_events)\n            return fig.mouse_event(event, event['data']);\n    }\n\n    rubberband.mousedown('button_press', mouse_event_fn);\n    rubberband.mouseup('button_release', mouse_event_fn);\n    // Throttle sequential mouse events to 1 every 20ms.\n    rubberband.mousemove('motion_notify', mouse_event_fn);\n\n    rubberband.mouseenter('figure_enter', mouse_event_fn);\n    rubberband.mouseleave('figure_leave', mouse_event_fn);\n\n    canvas_div.on(\"wheel\", function (event) {\n        event = event.originalEvent;\n        event['data'] = 'scroll'\n        if (event.deltaY < 0) {\n            event.step = 1;\n        } else {\n            event.step = -1;\n        }\n        mouse_event_fn(event);\n    });\n\n    canvas_div.append(canvas);\n    canvas_div.append(rubberband);\n\n    this.rubberband = rubberband;\n    this.rubberband_canvas = rubberband[0];\n    this.rubberband_context = rubberband[0].getContext(\"2d\");\n    this.rubberband_context.strokeStyle = \"#000000\";\n\n    this._resize_canvas = function(width, height) {\n        // Keep the size of the canvas, canvas container, and rubber band\n        // canvas in synch.\n        canvas_div.css('width', width)\n        canvas_div.css('height', height)\n\n        canvas.attr('width', width * mpl.ratio);\n        canvas.attr('height', height * mpl.ratio);\n        canvas.attr('style', 'width: ' + width + 'px; height: ' + height + 'px;');\n\n        rubberband.attr('width', width);\n        rubberband.attr('height', height);\n    }\n\n    // Set the figure to an initial 600x600px, this will subsequently be updated\n    // upon first draw.\n    this._resize_canvas(600, 600);\n\n    // Disable right mouse context menu.\n    $(this.rubberband_canvas).bind(\"contextmenu\",function(e){\n        return false;\n    });\n\n    function set_focus () {\n        canvas.focus();\n        canvas_div.focus();\n    }\n\n    window.setTimeout(set_focus, 100);\n}\n\nmpl.figure.prototype._init_toolbar = function() {\n    var fig = this;\n\n    var nav_element = $('<div/>')\n    nav_element.attr('style', 'width: 100%');\n    this.root.append(nav_element);\n\n    // Define a callback function for later on.\n    function toolbar_event(event) {\n        return fig.toolbar_button_onclick(event['data']);\n    }\n    function toolbar_mouse_event(event) {\n        return fig.toolbar_button_onmouseover(event['data']);\n    }\n\n    for(var toolbar_ind in mpl.toolbar_items) {\n        var name = mpl.toolbar_items[toolbar_ind][0];\n        var tooltip = mpl.toolbar_items[toolbar_ind][1];\n        var image = mpl.toolbar_items[toolbar_ind][2];\n        var method_name = mpl.toolbar_items[toolbar_ind][3];\n\n        if (!name) {\n            // put a spacer in here.\n            continue;\n        }\n        var button = $('<button/>');\n        button.addClass('ui-button ui-widget ui-state-default ui-corner-all ' +\n                        'ui-button-icon-only');\n        button.attr('role', 'button');\n        button.attr('aria-disabled', 'false');\n        button.click(method_name, toolbar_event);\n        button.mouseover(tooltip, toolbar_mouse_event);\n\n        var icon_img = $('<span/>');\n        icon_img.addClass('ui-button-icon-primary ui-icon');\n        icon_img.addClass(image);\n        icon_img.addClass('ui-corner-all');\n\n        var tooltip_span = $('<span/>');\n        tooltip_span.addClass('ui-button-text');\n        tooltip_span.html(tooltip);\n\n        button.append(icon_img);\n        button.append(tooltip_span);\n\n        nav_element.append(button);\n    }\n\n    var fmt_picker_span = $('<span/>');\n\n    var fmt_picker = $('<select/>');\n    fmt_picker.addClass('mpl-toolbar-option ui-widget ui-widget-content');\n    fmt_picker_span.append(fmt_picker);\n    nav_element.append(fmt_picker_span);\n    this.format_dropdown = fmt_picker[0];\n\n    for (var ind in mpl.extensions) {\n        var fmt = mpl.extensions[ind];\n        var option = $(\n            '<option/>', {selected: fmt === mpl.default_extension}).html(fmt);\n        fmt_picker.append(option)\n    }\n\n    // Add hover states to the ui-buttons\n    $( \".ui-button\" ).hover(\n        function() { $(this).addClass(\"ui-state-hover\");},\n        function() { $(this).removeClass(\"ui-state-hover\");}\n    );\n\n    var status_bar = $('<span class=\"mpl-message\"/>');\n    nav_element.append(status_bar);\n    this.message = status_bar[0];\n}\n\nmpl.figure.prototype.request_resize = function(x_pixels, y_pixels) {\n    // Request matplotlib to resize the figure. Matplotlib will then trigger a resize in the client,\n    // which will in turn request a refresh of the image.\n    this.send_message('resize', {'width': x_pixels, 'height': y_pixels});\n}\n\nmpl.figure.prototype.send_message = function(type, properties) {\n    properties['type'] = type;\n    properties['figure_id'] = this.id;\n    this.ws.send(JSON.stringify(properties));\n}\n\nmpl.figure.prototype.send_draw_message = function() {\n    if (!this.waiting) {\n        this.waiting = true;\n        this.ws.send(JSON.stringify({type: \"draw\", figure_id: this.id}));\n    }\n}\n\n\nmpl.figure.prototype.handle_save = function(fig, msg) {\n    var format_dropdown = fig.format_dropdown;\n    var format = format_dropdown.options[format_dropdown.selectedIndex].value;\n    fig.ondownload(fig, format);\n}\n\n\nmpl.figure.prototype.handle_resize = function(fig, msg) {\n    var size = msg['size'];\n    if (size[0] != fig.canvas.width || size[1] != fig.canvas.height) {\n        fig._resize_canvas(size[0], size[1]);\n        fig.send_message(\"refresh\", {});\n    };\n}\n\nmpl.figure.prototype.handle_rubberband = function(fig, msg) {\n    var x0 = msg['x0'] / mpl.ratio;\n    var y0 = (fig.canvas.height - msg['y0']) / mpl.ratio;\n    var x1 = msg['x1'] / mpl.ratio;\n    var y1 = (fig.canvas.height - msg['y1']) / mpl.ratio;\n    x0 = Math.floor(x0) + 0.5;\n    y0 = Math.floor(y0) + 0.5;\n    x1 = Math.floor(x1) + 0.5;\n    y1 = Math.floor(y1) + 0.5;\n    var min_x = Math.min(x0, x1);\n    var min_y = Math.min(y0, y1);\n    var width = Math.abs(x1 - x0);\n    var height = Math.abs(y1 - y0);\n\n    fig.rubberband_context.clearRect(\n        0, 0, fig.canvas.width, fig.canvas.height);\n\n    fig.rubberband_context.strokeRect(min_x, min_y, width, height);\n}\n\nmpl.figure.prototype.handle_figure_label = function(fig, msg) {\n    // Updates the figure title.\n    fig.header.textContent = msg['label'];\n}\n\nmpl.figure.prototype.handle_cursor = function(fig, msg) {\n    var cursor = msg['cursor'];\n    switch(cursor)\n    {\n    case 0:\n        cursor = 'pointer';\n        break;\n    case 1:\n        cursor = 'default';\n        break;\n    case 2:\n        cursor = 'crosshair';\n        break;\n    case 3:\n        cursor = 'move';\n        break;\n    }\n    fig.rubberband_canvas.style.cursor = cursor;\n}\n\nmpl.figure.prototype.handle_message = function(fig, msg) {\n    fig.message.textContent = msg['message'];\n}\n\nmpl.figure.prototype.handle_draw = function(fig, msg) {\n    // Request the server to send over a new figure.\n    fig.send_draw_message();\n}\n\nmpl.figure.prototype.handle_image_mode = function(fig, msg) {\n    fig.image_mode = msg['mode'];\n}\n\nmpl.figure.prototype.updated_canvas_event = function() {\n    // Called whenever the canvas gets updated.\n    this.send_message(\"ack\", {});\n}\n\n// A function to construct a web socket function for onmessage handling.\n// Called in the figure constructor.\nmpl.figure.prototype._make_on_message_function = function(fig) {\n    return function socket_on_message(evt) {\n        if (evt.data instanceof Blob) {\n            /* FIXME: We get \"Resource interpreted as Image but\n             * transferred with MIME type text/plain:\" errors on\n             * Chrome.  But how to set the MIME type?  It doesn't seem\n             * to be part of the websocket stream */\n            evt.data.type = \"image/png\";\n\n            /* Free the memory for the previous frames */\n            if (fig.imageObj.src) {\n                (window.URL || window.webkitURL).revokeObjectURL(\n                    fig.imageObj.src);\n            }\n\n            fig.imageObj.src = (window.URL || window.webkitURL).createObjectURL(\n                evt.data);\n            fig.updated_canvas_event();\n            fig.waiting = false;\n            return;\n        }\n        else if (typeof evt.data === 'string' && evt.data.slice(0, 21) == \"data:image/png;base64\") {\n            fig.imageObj.src = evt.data;\n            fig.updated_canvas_event();\n            fig.waiting = false;\n            return;\n        }\n\n        var msg = JSON.parse(evt.data);\n        var msg_type = msg['type'];\n\n        // Call the  \"handle_{type}\" callback, which takes\n        // the figure and JSON message as its only arguments.\n        try {\n            var callback = fig[\"handle_\" + msg_type];\n        } catch (e) {\n            console.log(\"No handler for the '\" + msg_type + \"' message type: \", msg);\n            return;\n        }\n\n        if (callback) {\n            try {\n                // console.log(\"Handling '\" + msg_type + \"' message: \", msg);\n                callback(fig, msg);\n            } catch (e) {\n                console.log(\"Exception inside the 'handler_\" + msg_type + \"' callback:\", e, e.stack, msg);\n            }\n        }\n    };\n}\n\n// from http://stackoverflow.com/questions/1114465/getting-mouse-location-in-canvas\nmpl.findpos = function(e) {\n    //this section is from http://www.quirksmode.org/js/events_properties.html\n    var targ;\n    if (!e)\n        e = window.event;\n    if (e.target)\n        targ = e.target;\n    else if (e.srcElement)\n        targ = e.srcElement;\n    if (targ.nodeType == 3) // defeat Safari bug\n        targ = targ.parentNode;\n\n    // jQuery normalizes the pageX and pageY\n    // pageX,Y are the mouse positions relative to the document\n    // offset() returns the position of the element relative to the document\n    var x = e.pageX - $(targ).offset().left;\n    var y = e.pageY - $(targ).offset().top;\n\n    return {\"x\": x, \"y\": y};\n};\n\n/*\n * return a copy of an object with only non-object keys\n * we need this to avoid circular references\n * http://stackoverflow.com/a/24161582/3208463\n */\nfunction simpleKeys (original) {\n  return Object.keys(original).reduce(function (obj, key) {\n    if (typeof original[key] !== 'object')\n        obj[key] = original[key]\n    return obj;\n  }, {});\n}\n\nmpl.figure.prototype.mouse_event = function(event, name) {\n    var canvas_pos = mpl.findpos(event)\n\n    if (name === 'button_press')\n    {\n        this.canvas.focus();\n        this.canvas_div.focus();\n    }\n\n    var x = canvas_pos.x * mpl.ratio;\n    var y = canvas_pos.y * mpl.ratio;\n\n    this.send_message(name, {x: x, y: y, button: event.button,\n                             step: event.step,\n                             guiEvent: simpleKeys(event)});\n\n    /* This prevents the web browser from automatically changing to\n     * the text insertion cursor when the button is pressed.  We want\n     * to control all of the cursor setting manually through the\n     * 'cursor' event from matplotlib */\n    event.preventDefault();\n    return false;\n}\n\nmpl.figure.prototype._key_event_extra = function(event, name) {\n    // Handle any extra behaviour associated with a key event\n}\n\nmpl.figure.prototype.key_event = function(event, name) {\n\n    // Prevent repeat events\n    if (name == 'key_press')\n    {\n        if (event.which === this._key)\n            return;\n        else\n            this._key = event.which;\n    }\n    if (name == 'key_release')\n        this._key = null;\n\n    var value = '';\n    if (event.ctrlKey && event.which != 17)\n        value += \"ctrl+\";\n    if (event.altKey && event.which != 18)\n        value += \"alt+\";\n    if (event.shiftKey && event.which != 16)\n        value += \"shift+\";\n\n    value += 'k';\n    value += event.which.toString();\n\n    this._key_event_extra(event, name);\n\n    this.send_message(name, {key: value,\n                             guiEvent: simpleKeys(event)});\n    return false;\n}\n\nmpl.figure.prototype.toolbar_button_onclick = function(name) {\n    if (name == 'download') {\n        this.handle_save(this, null);\n    } else {\n        this.send_message(\"toolbar_button\", {name: name});\n    }\n};\n\nmpl.figure.prototype.toolbar_button_onmouseover = function(tooltip) {\n    this.message.textContent = tooltip;\n};\nmpl.toolbar_items = [[\"Home\", \"Reset original view\", \"fa fa-home icon-home\", \"home\"], [\"Back\", \"Back to previous view\", \"fa fa-arrow-left icon-arrow-left\", \"back\"], [\"Forward\", \"Forward to next view\", \"fa fa-arrow-right icon-arrow-right\", \"forward\"], [\"\", \"\", \"\", \"\"], [\"Pan\", \"Pan axes with left mouse, zoom with right\", \"fa fa-arrows icon-move\", \"pan\"], [\"Zoom\", \"Zoom to rectangle\", \"fa fa-square-o icon-check-empty\", \"zoom\"], [\"\", \"\", \"\", \"\"], [\"Download\", \"Download plot\", \"fa fa-floppy-o icon-save\", \"download\"]];\n\nmpl.extensions = [\"eps\", \"jpeg\", \"pdf\", \"png\", \"ps\", \"raw\", \"svg\", \"tif\"];\n\nmpl.default_extension = \"png\";var comm_websocket_adapter = function(comm) {\n    // Create a \"websocket\"-like object which calls the given IPython comm\n    // object with the appropriate methods. Currently this is a non binary\n    // socket, so there is still some room for performance tuning.\n    var ws = {};\n\n    ws.close = function() {\n        comm.close()\n    };\n    ws.send = function(m) {\n        //console.log('sending', m);\n        comm.send(m);\n    };\n    // Register the callback with on_msg.\n    comm.on_msg(function(msg) {\n        //console.log('receiving', msg['content']['data'], msg);\n        // Pass the mpl event to the overridden (by mpl) onmessage function.\n        ws.onmessage(msg['content']['data'])\n    });\n    return ws;\n}\n\nmpl.mpl_figure_comm = function(comm, msg) {\n    // This is the function which gets called when the mpl process\n    // starts-up an IPython Comm through the \"matplotlib\" channel.\n\n    var id = msg.content.data.id;\n    // Get hold of the div created by the display call when the Comm\n    // socket was opened in Python.\n    var element = $(\"#\" + id);\n    var ws_proxy = comm_websocket_adapter(comm)\n\n    function ondownload(figure, format) {\n        window.open(figure.imageObj.src);\n    }\n\n    var fig = new mpl.figure(id, ws_proxy,\n                           ondownload,\n                           element.get(0));\n\n    // Call onopen now - mpl needs it, as it is assuming we've passed it a real\n    // web socket which is closed, not our websocket->open comm proxy.\n    ws_proxy.onopen();\n\n    fig.parent_element = element.get(0);\n    fig.cell_info = mpl.find_output_cell(\"<div id='\" + id + \"'></div>\");\n    if (!fig.cell_info) {\n        console.error(\"Failed to find cell for figure\", id, fig);\n        return;\n    }\n\n    var output_index = fig.cell_info[2]\n    var cell = fig.cell_info[0];\n\n};\n\nmpl.figure.prototype.handle_close = function(fig, msg) {\n    var width = fig.canvas.width/mpl.ratio\n    fig.root.unbind('remove')\n\n    // Update the output cell to use the data from the current canvas.\n    fig.push_to_output();\n    var dataURL = fig.canvas.toDataURL();\n    // Re-enable the keyboard manager in IPython - without this line, in FF,\n    // the notebook keyboard shortcuts fail.\n    IPython.keyboard_manager.enable()\n    $(fig.parent_element).html('<img src=\"' + dataURL + '\" width=\"' + width + '\">');\n    fig.close_ws(fig, msg);\n}\n\nmpl.figure.prototype.close_ws = function(fig, msg){\n    fig.send_message('closing', msg);\n    // fig.ws.close()\n}\n\nmpl.figure.prototype.push_to_output = function(remove_interactive) {\n    // Turn the data on the canvas into data in the output cell.\n    var width = this.canvas.width/mpl.ratio\n    var dataURL = this.canvas.toDataURL();\n    this.cell_info[1]['text/html'] = '<img src=\"' + dataURL + '\" width=\"' + width + '\">';\n}\n\nmpl.figure.prototype.updated_canvas_event = function() {\n    // Tell IPython that the notebook contents must change.\n    IPython.notebook.set_dirty(true);\n    this.send_message(\"ack\", {});\n    var fig = this;\n    // Wait a second, then push the new image to the DOM so\n    // that it is saved nicely (might be nice to debounce this).\n    setTimeout(function () { fig.push_to_output() }, 1000);\n}\n\nmpl.figure.prototype._init_toolbar = function() {\n    var fig = this;\n\n    var nav_element = $('<div/>')\n    nav_element.attr('style', 'width: 100%');\n    this.root.append(nav_element);\n\n    // Define a callback function for later on.\n    function toolbar_event(event) {\n        return fig.toolbar_button_onclick(event['data']);\n    }\n    function toolbar_mouse_event(event) {\n        return fig.toolbar_button_onmouseover(event['data']);\n    }\n\n    for(var toolbar_ind in mpl.toolbar_items){\n        var name = mpl.toolbar_items[toolbar_ind][0];\n        var tooltip = mpl.toolbar_items[toolbar_ind][1];\n        var image = mpl.toolbar_items[toolbar_ind][2];\n        var method_name = mpl.toolbar_items[toolbar_ind][3];\n\n        if (!name) { continue; };\n\n        var button = $('<button class=\"btn btn-default\" href=\"#\" title=\"' + name + '\"><i class=\"fa ' + image + ' fa-lg\"></i></button>');\n        button.click(method_name, toolbar_event);\n        button.mouseover(tooltip, toolbar_mouse_event);\n        nav_element.append(button);\n    }\n\n    // Add the status bar.\n    var status_bar = $('<span class=\"mpl-message\" style=\"text-align:right; float: right;\"/>');\n    nav_element.append(status_bar);\n    this.message = status_bar[0];\n\n    // Add the close button to the window.\n    var buttongrp = $('<div class=\"btn-group inline pull-right\"></div>');\n    var button = $('<button class=\"btn btn-mini btn-primary\" href=\"#\" title=\"Stop Interaction\"><i class=\"fa fa-power-off icon-remove icon-large\"></i></button>');\n    button.click(function (evt) { fig.handle_close(fig, {}); } );\n    button.mouseover('Stop Interaction', toolbar_mouse_event);\n    buttongrp.append(button);\n    var titlebar = this.root.find($('.ui-dialog-titlebar'));\n    titlebar.prepend(buttongrp);\n}\n\nmpl.figure.prototype._root_extra_style = function(el){\n    var fig = this\n    el.on(\"remove\", function(){\n\tfig.close_ws(fig, {});\n    });\n}\n\nmpl.figure.prototype._canvas_extra_style = function(el){\n    // this is important to make the div 'focusable\n    el.attr('tabindex', 0)\n    // reach out to IPython and tell the keyboard manager to turn it's self\n    // off when our div gets focus\n\n    // location in version 3\n    if (IPython.notebook.keyboard_manager) {\n        IPython.notebook.keyboard_manager.register_events(el);\n    }\n    else {\n        // location in version 2\n        IPython.keyboard_manager.register_events(el);\n    }\n\n}\n\nmpl.figure.prototype._key_event_extra = function(event, name) {\n    var manager = IPython.notebook.keyboard_manager;\n    if (!manager)\n        manager = IPython.keyboard_manager;\n\n    // Check for shift+enter\n    if (event.shiftKey && event.which == 13) {\n        this.canvas_div.blur();\n        event.shiftKey = false;\n        // Send a \"J\" for go to next cell\n        event.which = 74;\n        event.keyCode = 74;\n        manager.command_mode();\n        manager.handle_keydown(event);\n    }\n}\n\nmpl.figure.prototype.handle_save = function(fig, msg) {\n    fig.ondownload(fig, null);\n}\n\n\nmpl.find_output_cell = function(html_output) {\n    // Return the cell and output element which can be found *uniquely* in the notebook.\n    // Note - this is a bit hacky, but it is done because the \"notebook_saving.Notebook\"\n    // IPython event is triggered only after the cells have been serialised, which for\n    // our purposes (turning an active figure into a static one), is too late.\n    var cells = IPython.notebook.get_cells();\n    var ncells = cells.length;\n    for (var i=0; i<ncells; i++) {\n        var cell = cells[i];\n        if (cell.cell_type === 'code'){\n            for (var j=0; j<cell.output_area.outputs.length; j++) {\n                var data = cell.output_area.outputs[j];\n                if (data.data) {\n                    // IPython >= 3 moved mimebundle to data attribute of output\n                    data = data.data;\n                }\n                if (data['text/html'] == html_output) {\n                    return [cell, data, j];\n                }\n            }\n        }\n    }\n}\n\n// Register the function which deals with the matplotlib target/channel.\n// The kernel may be null if the page has been refreshed.\nif (IPython.notebook.kernel != null) {\n    IPython.notebook.kernel.comm_manager.register_target('matplotlib', mpl.mpl_figure_comm);\n}\n",
      "text/plain": [
       "<IPython.core.display.Javascript object>"
      ]
     },
     "metadata": {},
     "output_type": "display_data"
    },
    {
     "data": {
      "text/html": [
       "<img src=\"data:image/png;base64,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\" width=\"640\">"
      ],
      "text/plain": [
       "<IPython.core.display.HTML object>"
      ]
     },
     "metadata": {},
     "output_type": "display_data"
    }
   ],
   "source": [
    "### Graph Plot\n",
    "%matplotlib notebook\n",
    "# Generate Data\n",
    "num = 38\n",
    "\n",
    "\n",
    "x= truey.flatten()\n",
    "y= prediction.flatten()\n",
    "\n",
    "labels = np.random.choice(['Actual_Glucose', 'Predicted_Glucose'], num)\n",
    "df = pd.DataFrame(dict(x=x, y=y, label=labels))\n",
    "\n",
    "groups = df.groupby('label')\n",
    "\n",
    "# Plot\n",
    "fig, ax = plt.subplots()\n",
    "ax.margins(0.05) # Optional, just adds 5% padding to the autoscaling\n",
    "for name, group in groups:\n",
    "    ax.plot(group.x, group.y, marker='o', linestyle='', ms=8, label=name)\n",
    "    ax = sns.regplot(x=x, y=y, data=df)\n",
    "ax.legend()\n",
    "plt.show()\n",
    "#plt.savefig('data_mat/regression_new.png')"
   ]
  },
  {
   "cell_type": "code",
   "execution_count": 216,
   "metadata": {},
   "outputs": [],
   "source": [
    "d1 = pd.DataFrame({'Real Values':truey.reshape(-1), 'Predicted Values':prediction, 'labels':labels})\n",
    "d1.to_csv(\"RFR.csv\")"
   ]
  },
  {
   "cell_type": "code",
   "execution_count": null,
   "metadata": {},
   "outputs": [],
   "source": []
  }
 ],
 "metadata": {
  "interpreter": {
   "hash": "e9acf0a5f7b368749e03ba162bc6f8dae21ce9d9285a8a40c5b041a2ff3bab4f"
  },
  "kernelspec": {
   "display_name": "Python 3.6.7 64-bit ('tensorflow': conda)",
   "name": "python3"
  },
  "language_info": {
   "codemirror_mode": {
    "name": "ipython",
    "version": 3
   },
   "file_extension": ".py",
   "mimetype": "text/x-python",
   "name": "python",
   "nbconvert_exporter": "python",
   "pygments_lexer": "ipython3",
   "version": "3.6.7"
  }
 },
 "nbformat": 4,
 "nbformat_minor": 2
}
